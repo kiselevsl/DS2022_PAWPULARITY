{
 "cells": [
  {
   "cell_type": "code",
   "execution_count": null,
   "metadata": {},
   "outputs": [],
   "source": [
    "import pandas as pd\n",
    "import numpy as np\n",
    "from sklearn.model_selection import train_test_split\n",
    "from sklearn.ensemble import RandomForestRegressor\n",
    "import shap\n",
    "from matplotlib import pyplot as plt\n",
    "\n",
    "df_train = pd.read_csv(\"train.csv\")\n",
    "\n",
    "fig, ax = plt.subplots()\n",
    "df_train['Pawpularity'].hist(figsize = (10, 5), bins = 100)\n",
    "plt.savefig('dataset.svg')\n",
    "\n",
    "X = df_train.drop(\"Pawpularity\", axis = 1).drop(\"Id\", axis=1)\n",
    "y = df_train[\"Pawpularity\"]\n",
    "\n",
    "X_train, X_test, y_train, y_test = train_test_split(X, y, test_size=0.3, random_state=1)"
   ]
  },
  {
   "cell_type": "code",
   "execution_count": null,
   "metadata": {},
   "outputs": [],
   "source": [
    "\n",
    "rf = RandomForestRegressor(n_estimators=635, max_depth = 30, random_state = 0, bootstrap=True)\n",
    "rf.fit(X_train, y_train)\n"
   ]
  },
  {
   "cell_type": "code",
   "execution_count": null,
   "metadata": {},
   "outputs": [],
   "source": [
    "explainer = shap.TreeExplainer(rf)\n",
    "shap_values = explainer.shap_values(X_test)\n",
    "\n",
    "shap.summary_plot(shap_values, X_test, show=False)\n",
    "plt.savefig(\"Feture_imp.svg\")"
   ]
  },
  {
   "cell_type": "code",
   "execution_count": null,
   "metadata": {},
   "outputs": [],
   "source": [
    "\n",
    "\n",
    "import pandas as pd\n",
    "import os\n",
    "import sys\n",
    "sys.path.append('../input/timm-pytorch-image-models/pytorch-image-models-master')\n",
    "from timm import create_model\n",
    "import numpy as np\n",
    "import torch\n",
    "from torch import nn\n",
    "# from torch.utils.data import DataLoaders\n",
    "from torchvision import datasets\n",
    "from torchvision.transforms import ToTensor\n",
    "from sklearn.model_selection import train_test_split\n",
    "from fastai.vision.all import *\n",
    "import gc\n",
    "\n",
    "\n",
    "img_path = Path('D:/data_semen/DS2022_PAWPULARITY/train')\n",
    "\n",
    "df_train = pd.read_csv(\"train.csv\")\n",
    "#df_train['Pawpularity'].hist(figsize = (10, 5), bins = 100)\n",
    "\n",
    "# val_thr_lw = 17\n",
    "# val_thr_hg = 55\n",
    "# thr_q = 90\n",
    "\n",
    "# df_train.sort_values(by=[\"Pawpularity\"])\n",
    "\n",
    "# for i in df_train[\"Pawpularity\"]:\n",
    "#     quant = df_train[\"Pawpularity\"].value_counts()[i]\n",
    "#     if ((i <= val_thr_hg) and (i >= val_thr_lw) and (quant > thr_q)) or ((i == 100) and (quant > thr_q)):\n",
    "#         ind = df_train.index[df_train['Pawpularity'] == i].tolist()\n",
    "\n",
    "#         for x in range(int(quant - thr_q)):\n",
    "#             df_train.drop(ind[x], axis = 0, inplace = True)\n",
    "\n",
    "#df_train['Pawpularity'].hist(figsize = (10, 5), bins = 100)\n",
    "\n",
    "df_train['score_normed'] = df_train['Pawpularity']\n",
    "df_train[\"path\"] = df_train[\"Id\"].map(lambda x:str(x)+'.jpg')\n",
    "            \n",
    "df_train = df_train.sample(frac=1).reset_index(drop=True)\n",
    "\n",
    "\n",
    "dls = ImageDataLoaders.from_df(df_train, valid_pct=0.3, path = img_path, seed = 228, fn_col = 'path', label_col = 'score_normed', \n",
    "                               y_block = RegressionBlock, bs = 32, num_workers = 8, item_tfms = Resize(224), \n",
    "                               batch_tfms = setup_aug_tfms([Flip(), Brightness(), Contrast(), Hue(), Saturation()]))\n",
    "\n",
    "\n",
    "dls.show_batch()\n",
    "plt.savefig('sample_of_batch_images.svg')\n",
    "\n",
    "\n",
    "\n",
    "     \n"
   ]
  }
 ],
 "metadata": {
  "kernelspec": {
   "display_name": "Python 3.10.8 64-bit (microsoft store)",
   "language": "python",
   "name": "python3"
  },
  "language_info": {
   "name": "python",
   "version": "3.10.8"
  },
  "orig_nbformat": 4,
  "vscode": {
   "interpreter": {
    "hash": "9ee2a15ef8157fd53c7bae49b3b689f0ead7000129781466395f1792f133ff36"
   }
  }
 },
 "nbformat": 4,
 "nbformat_minor": 2
}
